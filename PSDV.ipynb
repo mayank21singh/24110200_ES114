{
 "cells": [
  {
   "cell_type": "code",
   "execution_count": 12,
   "id": "1a37c599-61d8-45b9-986d-e7d76b808293",
   "metadata": {},
   "outputs": [
    {
     "name": "stdout",
     "output_type": "stream",
     "text": [
      "[1, 2, 3, 4, 5, 6, 7, 8, 9, 10, 11, 12, 13, 14, 15, 16, 17, 18, 19, 20]\n",
      "110\n",
      "654729075\n",
      "mean= 10.5\n",
      "median= 10.5\n",
      "standard deviation= 5.766281297335398\n"
     ]
    }
   ],
   "source": [
    "#1.\n",
    "import math\n",
    "a=[]\n",
    "s=0\n",
    "p=1\n",
    "for i in range(1,21):\n",
    "    if i%2==0:\n",
    "        s+=i\n",
    "    else:\n",
    "        p=p*i\n",
    "    a.append(i)\n",
    "print(a)\n",
    "print(s)\n",
    "print(p)\n",
    "s=0\n",
    "for i in range(1,21):\n",
    "    s+=i\n",
    "u=s/20\n",
    "print(\"mean=\",u)\n",
    "median= (a[9] + a[10])/2\n",
    "print(\"median=\",median)\n",
    "q=0\n",
    "for i in range(20):\n",
    "    q=q+(a[i]-u)**2\n",
    "r=q/20\n",
    "deviation=math.sqrt(r)\n",
    "print(\"standard deviation=\",deviation)\n",
    "\n",
    "\n"
   ]
  },
  {
   "cell_type": "code",
   "execution_count": 14,
   "id": "5bee8280-3ad6-4d7e-a101-848fb76e8e47",
   "metadata": {},
   "outputs": [],
   "source": [
    "#2.\n",
    "#Mutable datatypes: These are the ones which we can change after making them. Ex: List, value in dictionary\n",
    "#Immutable datatypes: These are the ones which cannot be changed after it is made. Ex: tuple, key in dictionary"
   ]
  },
  {
   "cell_type": "code",
   "execution_count": 38,
   "id": "df759239-328f-46ea-870f-3ab8b848dc8a",
   "metadata": {},
   "outputs": [
    {
     "name": "stdin",
     "output_type": "stream",
     "text": [
      "Enter the number: 10\n"
     ]
    },
    {
     "name": "stdout",
     "output_type": "stream",
     "text": [
      "[0, 1, 2, 3, 4, 5, 6, 7, 8, 9]\n",
      "[0, 1, 1, 2, 3, 5, 8, 13, 21, 34]\n"
     ]
    },
    {
     "data": {
      "text/plain": [
       "[<matplotlib.lines.Line2D at 0x1d4ab708610>]"
      ]
     },
     "execution_count": 38,
     "metadata": {},
     "output_type": "execute_result"
    },
    {
     "data": {
      "image/png": "[encoded data removed]",
      "text/plain": [
       "<Figure size 640x480 with 1 Axes>"
      ]
     },
     "metadata": {},
     "output_type": "display_data"
    }
   ],
   "source": [
    "#3.\n",
    "import matplotlib.pyplot as plt\n",
    "n=int(input(\"Enter the number:\"))\n",
    "a=0\n",
    "b=1\n",
    "c=[]\n",
    "d=[]\n",
    "for i in range(n):\n",
    "    d.append(a)\n",
    "    e=a+b\n",
    "    a=b\n",
    "    b=e\n",
    "    c.append(i)\n",
    "print(c)\n",
    "print(d)\n",
    "plt.plot(c,d,color='r')  "
   ]
  },
  {
   "cell_type": "code",
   "execution_count": 59,
   "id": "2a586f50-e59a-4d96-9dac-0b2136a8e31c",
   "metadata": {},
   "outputs": [
    {
     "name": "stdout",
     "output_type": "stream",
     "text": [
      "[3, 5, 7, 6, 9, 11, 13]\n",
      "[3, 5, 6, 9, 11, 13]\n",
      "[13, 11, 9, 7, 5, 3]\n",
      "mean= 8\n",
      "median= 8\n"
     ]
    }
   ],
   "source": [
    "#4.\n",
    "a=[3, 5, 7, 9, 11, 13]\n",
    "a.insert(3,6)\n",
    "print(a)\n",
    "a.remove(7)\n",
    "print(a)\n",
    "a=[3, 5, 7, 9, 11, 13]\n",
    "d=[]\n",
    "k=len(a)\n",
    "for i in range(k):\n",
    "    d.append(a[k-i-1])\n",
    "print(d)\n",
    "s=0\n",
    "for i in range(k):\n",
    "    s=s+a[i]\n",
    "print(\"mean=\",int(s/k))\n",
    "median=(a[int(k/2 - 1)] + a[int(k/2)])/2\n",
    "print(\"median=\",int(median))\n",
    "    "
   ]
  },
  {
   "cell_type": "code",
   "execution_count": 6,
   "id": "84bf94be-19ae-47ce-aeaf-d227bc989e2e",
   "metadata": {},
   "outputs": [
    {
     "name": "stdin",
     "output_type": "stream",
     "text": [
      "Enter the length of the list: 6\n",
      "Enter the element: 10\n",
      "Enter the element: 20\n",
      "Enter the element: 30\n",
      "Enter the element: 40\n",
      "Enter the element: 50\n",
      "Enter the element: 100\n"
     ]
    },
    {
     "name": "stdout",
     "output_type": "stream",
     "text": [
      "Min :   10\n",
      "Max :  100\n"
     ]
    },
    {
     "data": {
      "text/plain": [
       "(array([3., 2., 0., 1.]),\n",
       " array([ 10. ,  32.5,  55. ,  77.5, 100. ]),\n",
       " <BarContainer object of 4 artists>)"
      ]
     },
     "execution_count": 6,
     "metadata": {},
     "output_type": "execute_result"
    },
    {
     "data": {
      "image/png": "[encoded data removed]",
      "text/plain": [
       "<Figure size 640x480 with 1 Axes>"
      ]
     },
     "metadata": {},
     "output_type": "display_data"
    }
   ],
   "source": [
    "#5.\n",
    "import matplotlib.pyplot as plt\n",
    "l=int(input(\"Enter the length of the list:\"))\n",
    "a=[]\n",
    "s=0\n",
    "for i in range(l):\n",
    "    k=int(input(\"Enter the element:\"))\n",
    "    a.append(k)\n",
    "    s+=k\n",
    "mean=s/l\n",
    "min=a[0]\n",
    "for i in range(l):\n",
    "    if a[i]<min:\n",
    "        min=a[i]\n",
    "print(\"Min :  \",min)\n",
    "max=0\n",
    "for j in range(l):\n",
    "    if a[i]>max:\n",
    "        max=a[i]\n",
    "print(\"Max : \",max)\n",
    "plt.hist(a,bins=4,rwidth=0.8)\n",
    "    \n"
   ]
  },
  {
   "cell_type": "code",
   "execution_count": 80,
   "id": "5d17282a-9ba1-42f2-af75-c87e0229ca1d",
   "metadata": {},
   "outputs": [
    {
     "name": "stdin",
     "output_type": "stream",
     "text": [
      "Enter the string A man a plan a canal Panama\n"
     ]
    },
    {
     "name": "stdout",
     "output_type": "stream",
     "text": [
      "a man a plan a canal panama\n",
      "amanaplanacanalpanama\n",
      "amanaplanacanalpanama\n",
      "True : String is a palindrome number\n"
     ]
    }
   ],
   "source": [
    "#6.\n",
    "s=input(\"Enter the string\")\n",
    "b=str(s.lower())\n",
    "print(b)\n",
    "k=len(b)\n",
    "count=0\n",
    "a=\"\"\n",
    "for i in range(k):\n",
    "    if b[i]==\" \":\n",
    "        count+=1\n",
    "        continue\n",
    "    else:\n",
    "        a=a+b[i]\n",
    "print(a)\n",
    "d=\"\"\n",
    "for i in range(k-count):\n",
    "    d=d+a[k-count-i-1]\n",
    "print(d)\n",
    "if a==d:\n",
    "    print(\"True : String is a palindrome number\")\n",
    "else:\n",
    "    print(\"False : String is not a palindrome number\")"
   ]
  },
  {
   "cell_type": "code",
   "execution_count": 38,
   "id": "5135c77e-9333-4246-afd4-47ccb6e5c8c8",
   "metadata": {},
   "outputs": [
    {
     "name": "stdout",
     "output_type": "stream",
     "text": [
      "{'Mayank': 99.5, 'Mehul': 99, 'Pari': 98, 'Amit': 97, 'Aman': 95, 'chetan': 90, 'lavish': 85}\n",
      "[99.5, 99, 98, 97, 95, 90, 85]\n",
      "['Mayank', 'Mehul', 'Pari', 'Amit', 'Aman', 'chetan', 'lavish']\n",
      "7\n",
      "7\n",
      "Average= 94.78571428571429\n",
      "Mayank\n",
      "Mehul\n",
      "Pari\n",
      "Amit\n",
      "Aman\n"
     ]
    }
   ],
   "source": [
    "#7.\n",
    "name={}\n",
    "name ['Mayank']=99.5\n",
    "name ['Mehul']=99\n",
    "name ['Pari']=98\n",
    "name ['Amit']=97\n",
    "name ['Aman']=95\n",
    "name ['chetan']=90\n",
    "name ['lavish']=85\n",
    "print(name)\n",
    "c=list(name.values())\n",
    "d=list(name.keys())\n",
    "print(c)\n",
    "print(d)\n",
    "k=len(c)\n",
    "l=len(name)\n",
    "print(k)\n",
    "print(l)\n",
    "s=0\n",
    "for i in range(k):\n",
    "    s+=c[i]\n",
    "Average=s/l\n",
    "keyyy=[]\n",
    "for i in name:\n",
    "    keyyy.append(i)\n",
    "print(\"Average=\",s/l)\n",
    "for i in range(k):\n",
    "    if c[i]>Average:\n",
    "        temp=i\n",
    "        print(d[temp])"
   ]
  },
  {
   "cell_type": "code",
   "execution_count": 31,
   "id": "9cfa82ff-4b95-46bc-a44b-0a1a8397c1fb",
   "metadata": {},
   "outputs": [
    {
     "name": "stdin",
     "output_type": "stream",
     "text": [
      "Enter the number: 10\n"
     ]
    },
    {
     "name": "stdout",
     "output_type": "stream",
     "text": [
      "(1, 1)\n",
      "(2, 4)\n",
      "(3, 9)\n",
      "(4, 16)\n",
      "(5, 25)\n",
      "(6, 36)\n",
      "(7, 49)\n",
      "(8, 64)\n",
      "(9, 81)\n",
      "(10, 100)\n",
      "[(1, 1), (2, 4), (3, 9), (4, 16), (5, 25), (6, 36), (7, 49), (8, 64), (9, 81), (10, 100)]\n",
      "[1, 2, 3, 4, 5, 6, 7, 8, 9, 10]\n",
      "[1, 4, 9, 16, 25, 36, 49, 64, 81, 100]\n"
     ]
    },
    {
     "data": {
      "text/plain": [
       "<matplotlib.collections.PathCollection at 0x2abf8d1f310>"
      ]
     },
     "execution_count": 31,
     "metadata": {},
     "output_type": "execute_result"
    },
    {
     "data": {
      "image/png": "[encoded data removed]",
      "text/plain": [
       "<Figure size 640x480 with 1 Axes>"
      ]
     },
     "metadata": {},
     "output_type": "display_data"
    }
   ],
   "source": [
    "#8.\n",
    "import matplotlib.pyplot as plt\n",
    "n=int(input(\"Enter the number:\"))\n",
    "a=[]\n",
    "x=[]\n",
    "y=[]\n",
    "for i in range(1,n+1):\n",
    "    tupl = i,i**2\n",
    "    print(tupl)\n",
    "    a.append(tupl)\n",
    "    b=i\n",
    "    c=i**2\n",
    "    x.append(b)\n",
    "    y.append(c)\n",
    "print(a)\n",
    "print(x)\n",
    "print(y)\n",
    "plt.plot(x,y,color='r')\n",
    "plt.scatter(x,y)"
   ]
  },
  {
   "cell_type": "code",
   "execution_count": 91,
   "id": "3cae2df6-7e76-49fb-ada3-91f2f128b197",
   "metadata": {},
   "outputs": [
    {
     "name": "stdin",
     "output_type": "stream",
     "text": [
      "Enter the length of dict1 2\n",
      "Enter the value: 1\n",
      "Enter the key: a\n",
      "Enter the value: 2\n",
      "Enter the key: b\n",
      "Enter the length of dict2 3\n",
      "Enter the value: 4\n",
      "Enter the key: c\n",
      "Enter the value: 8\n",
      "Enter the key: d\n",
      "Enter the value: 18\n",
      "Enter the key: v\n"
     ]
    },
    {
     "name": "stdout",
     "output_type": "stream",
     "text": [
      "{'a': 1, 'b': 2}\n",
      "{'c': 4, 'd': 8, 'v': 18}\n",
      "['a', 'b', 'c', 'd', 'v']\n",
      "dict_keys(['a', 'b'])\n",
      "dict_values([1, 2])\n",
      "dict_keys(['c', 'd', 'v'])\n",
      "dict_values([4, 8, 18])\n"
     ]
    }
   ],
   "source": [
    "#9.\n",
    "dict1={}\n",
    "dict2={}\n",
    "dict3={}\n",
    "n1=int(input(\"Enter the length of dict1\"))      \n",
    "for i in range(n1):\n",
    "    dict1[input(\"Enter the key:\")]=int(input(\"Enter the value:\"))\n",
    "n2=int(input(\"Enter the length of dict2\"))\n",
    "for i in range(n2):\n",
    "    dict2[input(\"Enter the key:\")]=int(input(\"Enter the value:\"))\n",
    "print(dict1)\n",
    "print(dict2)\n",
    "p=list(dict1)\n",
    "q=list(dict2)\n",
    "r=p+q\n",
    "print(r)\n",
    "a=dict1.keys()\n",
    "b=dict1.values()\n",
    "c=dict2.keys()\n",
    "d=dict2.values()\n",
    "print(a)\n",
    "print(b)\n",
    "print(c)\n",
    "print(d)\n",
    "\n",
    "#### PENDING TO SUM THE DICTIONARIES\n",
    "\n",
    "# l=len(r)\n",
    "# f=[]\n",
    "# f.append(r[0])\n",
    "# for i in range(1,l):\n",
    "#     if r[i] in f:\n",
    "#         continue\n",
    "#     else:\n",
    "#         d.append(f[i])\n",
    "# print(d)\n",
    "\n",
    "# k1=len(a)\n",
    "# k2=len(c)\n",
    "# for i in range(k1):\n",
    "#     for j in range(k2):\n",
    "#         if a[i]==c[j]:\n",
    "\n"
   ]
  },
  {
   "cell_type": "code",
   "execution_count": 15,
   "id": "6b63ba46-d57e-4323-af1b-8fb6c8d5fefb",
   "metadata": {},
   "outputs": [
    {
     "name": "stdin",
     "output_type": "stream",
     "text": [
      "Enter the string My name is Mayank Singh\n"
     ]
    },
    {
     "name": "stdout",
     "output_type": "stream",
     "text": [
      "my name is mayank singh\n",
      "['My', 'name', 'is', 'Mayank', 'Singh']\n",
      "5\n",
      "[2, 4, 2, 6, 5]\n",
      "{'My': 2, 'name': 4, 'is': 2, 'Mayank': 6, 'Singh': 5}\n"
     ]
    },
    {
     "data": {
      "text/plain": [
       "<BarContainer object of 5 artists>"
      ]
     },
     "execution_count": 15,
     "metadata": {},
     "output_type": "execute_result"
    },
    {
     "data": {
      "image/png": "[encoded data removed]",
      "text/plain": [
       "<Figure size 640x480 with 1 Axes>"
      ]
     },
     "metadata": {},
     "output_type": "display_data"
    }
   ],
   "source": [
    "#10.\n",
    "import matplotlib.pyplot as plt\n",
    "s=input(\"Enter the string\")\n",
    "a=s.lower()\n",
    "print(a)\n",
    "b=s.split()\n",
    "print(b)\n",
    "l=len(b)\n",
    "print(l)\n",
    "c=[]\n",
    "for i in range(l):\n",
    "    d=len(b[i])\n",
    "    c.append(d)\n",
    "print(c)\n",
    "k={}\n",
    "for i in range(l):\n",
    "    k[b[i]]=c[i]\n",
    "print(k)\n",
    "plt.bar(b,c)\n",
    "\n",
    "    \n",
    "\n",
    "\n",
    "\n",
    "    \n"
   ]
  },
  {
   "cell_type": "code",
   "execution_count": 16,
   "id": "976189f9-d583-4d68-a1e0-0512bcc06076",
   "metadata": {},
   "outputs": [
    {
     "name": "stdin",
     "output_type": "stream",
     "text": [
      "Enter the element: 7\n",
      "Enter the number: 1\n",
      "Enter the number: 2\n",
      "Enter the number: 3\n",
      "Enter the number: 2\n",
      "Enter the number: 1\n",
      "Enter the number: 4\n",
      "Enter the number: 2\n"
     ]
    },
    {
     "name": "stdout",
     "output_type": "stream",
     "text": [
      "[1, 2, 3, 2, 1, 4, 2]\n",
      "[1]\n",
      "[1, 2, 3, 4]\n",
      "Mean= 10\n",
      "Median= 2.5\n"
     ]
    }
   ],
   "source": [
    "#11.\n",
    "n=int(input(\"Enter the element:\"))\n",
    "a=[]\n",
    "b=[]\n",
    "for i in range(n):\n",
    "    k=int(input(\"Enter the number:\"))\n",
    "    a.append(k)\n",
    "b.append(a[0])\n",
    "print(a)\n",
    "print(b)\n",
    "for i in range(1,n):\n",
    "    d=len(b)\n",
    "    for j in range(0,d):\n",
    "        if a[i]==b[j]:\n",
    "            break\n",
    "    else:\n",
    "        b.append(a[i])\n",
    "print(b)\n",
    "c=len(b)\n",
    "s=0\n",
    "for i in range(c):\n",
    "    s+=b[i]\n",
    "print(\"Mean=\",s)\n",
    "if c%2==0:\n",
    "    Median = (b[int(c/2) - 1] + b[int(c/2)])/2\n",
    "else:\n",
    "    Median = (b[int(int(c+1) /2)])\n",
    "print(\"Median=\",Median)\n",
    "        "
   ]
  },
  {
   "cell_type": "code",
   "execution_count": 23,
   "id": "b8a25109-6983-43b8-bd85-85d36103e109",
   "metadata": {},
   "outputs": [
    {
     "name": "stdin",
     "output_type": "stream",
     "text": [
      "Enter the number of elements: 5\n",
      "Enter the string: a\n",
      "Enter the string: bc\n",
      "Enter the string: def\n",
      "Enter the string: ghij\n",
      "Enter the string: klmno\n"
     ]
    },
    {
     "name": "stdout",
     "output_type": "stream",
     "text": [
      "['a', 'bc', 'def', 'ghij', 'klmno']\n",
      "klmno\n",
      "[1, 2, 3, 4, 5]\n",
      "1 string start with a vowel\n"
     ]
    },
    {
     "data": {
      "text/plain": [
       "(array([1., 0., 1., 0., 0., 1., 0., 1., 0., 1.]),\n",
       " array([1. , 1.4, 1.8, 2.2, 2.6, 3. , 3.4, 3.8, 4.2, 4.6, 5. ]),\n",
       " <BarContainer object of 10 artists>)"
      ]
     },
     "execution_count": 23,
     "metadata": {},
     "output_type": "execute_result"
    },
    {
     "data": {
      "image/png": "[encoded data removed]",
      "text/plain": [
       "<Figure size 640x480 with 1 Axes>"
      ]
     },
     "metadata": {},
     "output_type": "display_data"
    }
   ],
   "source": [
    "#12.\n",
    "import matplotlib.pyplot as plt\n",
    "import numpy as np\n",
    "%matplotlib inline\n",
    "n=int(input(\"Enter the number of elements:\"))\n",
    "a=[]\n",
    "for i in range(n):\n",
    "    k=input(\"Enter the string:\")\n",
    "    a.append(k)\n",
    "print(a)\n",
    "for i in range(n):\n",
    "    max=0\n",
    "    l=len(a[i])\n",
    "    if l>max:\n",
    "        max=l\n",
    "        temp=i\n",
    "print(a[temp])\n",
    "for i in range(n):\n",
    "    k=a[i]\n",
    "    l=len(a[i])\n",
    "    count=0\n",
    "    if k[0]== 'a' or 'e' or 'i' or 'o' or 'u':\n",
    "        count+=1\n",
    "b=[]\n",
    "for i in range(n):\n",
    "    b.append(len(a[i]))\n",
    "print(b)\n",
    "print(count,\"string start with a vowel\")\n",
    "xpos=np.arange(len(a))\n",
    "plt.ylabel(\"length\")\n",
    "plt.hist(b)"
   ]
  },
  {
   "cell_type": "code",
   "execution_count": 2,
   "id": "0abf8db8-09d7-450e-a724-60943488f1dd",
   "metadata": {},
   "outputs": [
    {
     "name": "stdin",
     "output_type": "stream",
     "text": [
      "Enter the number of items: 5\n",
      "Enter the name: a\n",
      "Enter the age: 11\n",
      "Enter the name: b\n",
      "Enter the age: 15\n",
      "Enter the name: c\n",
      "Enter the age: 20\n",
      "Enter the name: d\n",
      "Enter the age: 50\n",
      "Enter the name: e\n",
      "Enter the age: 4\n"
     ]
    },
    {
     "name": "stdout",
     "output_type": "stream",
     "text": [
      "[{'name': 'a', 'age': 11}, {'name': 'b', 'age': 15}, {'name': 'c', 'age': 20}, {'name': 'd', 'age': 50}, {'name': 'e', 'age': 4}]\n",
      "[{'name': 'a', 'age': 4}, {'name': 'b', 'age': 11}, {'name': 'c', 'age': 15}, {'name': 'd', 'age': 20}, {'name': 'e', 'age': 50}]\n"
     ]
    }
   ],
   "source": [
    "#13.\n",
    "def sort_dict_by_keys(b):\n",
    "    n=len(b)\n",
    "    for i in range(n):\n",
    "        for j in range(0,n-i-1):\n",
    "            if b[j]['age']>b[j+1]['age']:\n",
    "                t=b[j]['age']\n",
    "                b[j]['age']=b[j+1]['age']\n",
    "                b[j+1]['age']=t\n",
    "    return(b)\n",
    "b=[]\n",
    "n=int(input(\"Enter the number of items:\"))\n",
    "i=1\n",
    "while i<=n:\n",
    "    a={}\n",
    "    a['name']=input(\"Enter the name:\")\n",
    "    a['age']=int(input(\"Enter the age:\"))\n",
    "    b.append(a)\n",
    "    i+=1\n",
    "print(b)\n",
    "s=sort_dict_by_keys(b)\n",
    "print(s)\n",
    "         "
   ]
  },
  {
   "cell_type": "code",
   "execution_count": 19,
   "id": "42da9347-b05b-4afc-abee-5bbb52495870",
   "metadata": {},
   "outputs": [
    {
     "name": "stdin",
     "output_type": "stream",
     "text": [
      "Enter the string: This is a test string with some short and long words\n"
     ]
    },
    {
     "name": "stdout",
     "output_type": "stream",
     "text": [
      "['This', 'test', 'string', 'with', 'some', 'short', 'long', 'words']\n",
      "['T', 't', 's', 'w', 's', 's', 'l', 'w']\n",
      "['This', 'string', 'test', 'some', 'with', 'long', 'short', 'words']\n",
      "['This', 'string', 'test', 'some', 'with', 'long', 'short', 'words']\n"
     ]
    }
   ],
   "source": [
    "#14.\n",
    "s=input(\"Enter the string:\")\n",
    "s1=s.split()\n",
    "n=len(s1)\n",
    "a=[]\n",
    "for i in range(n):\n",
    "    if len(s1[i])>=4:\n",
    "        a.append(s1[i])\n",
    "print(a)\n",
    "m=len(a)\n",
    "b=[]\n",
    "for i in range(m):\n",
    "    b.append(a[i][0])\n",
    "print(b)\n",
    "c=[]\n",
    "for i in range(m-1):\n",
    "    if ord(b[i])>ord(b[i+1]):\n",
    "        t=a[i]\n",
    "        a[i]=a[i+1]\n",
    "        a[i+1]=t\n",
    "    # elif ord(b[i])==ord(b[i+1]):\n",
    "    else:\n",
    "        continue\n",
    "print(a)\n",
    "d=[]\n",
    "for i in range(m):\n",
    "    p=a[i]\n",
    "    p.upper()\n",
    "    d.append(p)\n",
    "print(d)\n",
    "    \n",
    "    "
   ]
  },
  {
   "cell_type": "code",
   "execution_count": 5,
   "id": "5a0c2133-6ea8-4561-a333-6a92d97988c6",
   "metadata": {},
   "outputs": [
    {
     "name": "stdin",
     "output_type": "stream",
     "text": [
      "Enter the number of elements: 4\n",
      "Enter the number whose anagram is need to find: creative\n",
      "Enter the string: reactive\n",
      "Enter the string: crabtive\n",
      "Enter the string: rainbows\n",
      "Enter the string: recative\n"
     ]
    },
    {
     "name": "stdout",
     "output_type": "stream",
     "text": [
      "['reactive', 'crabtive', 'rainbows', 'recative']\n",
      "['crabtive']\n"
     ]
    }
   ],
   "source": [
    "#15.\n",
    "n=int(input(\"Enter the number of elements:\"))\n",
    "s=input(\"Enter the number whose anagram is need to find:\")\n",
    "l=len(s)\n",
    "a=[]\n",
    "for i in range(n):\n",
    "    k=input(\"Enter the string:\")\n",
    "    a.append(k)\n",
    "print(a)\n",
    "b=[]\n",
    "for i in range(l):\n",
    "    b.append(s[i])\n",
    "o=[]\n",
    "f=True\n",
    "for i in range(n):\n",
    "    c=[]\n",
    "    s1=a[i]\n",
    "    l1=len(s1)\n",
    "    count=0\n",
    "    if l==l1:\n",
    "        for j in range(l):\n",
    "            c.append(s1[j])\n",
    "        for m in range(l):\n",
    "            for p in range(l):\n",
    "                if b[m]!=c[p]: \n",
    "                    continue\n",
    "                else:\n",
    "                    count+=1\n",
    "        if count==l:\n",
    "            o.append(a[i])\n",
    "print(o)   "
   ]
  },
  {
   "cell_type": "code",
   "execution_count": 77,
   "id": "adf9ef15-729a-452a-b131-6d83e3e6859f",
   "metadata": {},
   "outputs": [
    {
     "data": {
      "text/plain": [
       "Text(0.067, 0, 'symmetric difference -> b-a')"
      ]
     },
     "execution_count": 77,
     "metadata": {},
     "output_type": "execute_result"
    },
    {
     "data": {
      "image/png": "[encoded data removed]",
      "text/plain": [
       "<Figure size 1200x1200 with 1 Axes>"
      ]
     },
     "metadata": {},
     "output_type": "display_data"
    }
   ],
   "source": [
    "#16.\n",
    "import matplotlib.pyplot as plt\n",
    "def sett(a):\n",
    "    l=len(a)\n",
    "    d=[]\n",
    "    d.append(a[0])\n",
    "    for i in range(1,l):\n",
    "        if a[i] in d:\n",
    "            continue\n",
    "        else:\n",
    "            d.append(a[i])\n",
    "    return(d)\n",
    "\n",
    "n1=int(input(\"Enter the number of elements:\"))\n",
    "a=[]\n",
    "for i in range(n1):\n",
    "    k=input(\"Enter the element\")\n",
    "    a.append(k)\n",
    "\n",
    "b=[]\n",
    "n2=int(input(\"Enter the number of elements:\"))\n",
    "for i in range(n2):\n",
    "    k=input(\"Enter the element\")\n",
    "    b.append(k)\n",
    "\n",
    "p=[]\n",
    "for i in range(n1):\n",
    "    for j in range(n2):\n",
    "        if a[i]==b[j]:\n",
    "            p.append(a[i])\n",
    "print(\"The intersection of a and b is:\",p)\n",
    "\n",
    "c=sett(a)\n",
    "d=sett(b)\n",
    "print(c)\n",
    "print(d)\n",
    "l1=len(c)\n",
    "l2=len(d)\n",
    "e=c+d\n",
    "f=sett(e)\n",
    "print(\"The union of a and b is:\",f)\n",
    "\n",
    "l3=len(p)\n",
    "if l3==0:\n",
    "    print(\"The symmetric difference is:\",a)\n",
    "else:\n",
    "    for i in range(l3):\n",
    "        a.remove(p[i])\n",
    "    print(\"The symmetric difference is:\",a)\n",
    " \n",
    "  \n",
    "fig=plt.figure(figsize=(12,12))\n",
    "ax = fig.add_subplot(1,1,1)\n",
    "plt.scatter(x=[-0.1,0.1],y=[0,0],s=150000,color=['r','g'],alpha=0.3)\n",
    "plt.xlim(-0.25,0.25);\n",
    "plt.text(x=-0.23,y=0,s='symmetric difference -> a-b',fontsize=15,fontweight='bold',color='r')\n",
    "plt.text(x=-0.029,y=0,s='intersection',fontsize=13,fontweight='bold',color='b',rotation=50)\n",
    "plt.text(x=0.067,y=0,s='symmetric difference -> b-a',fontsize=15,fontweight='bold',color='g')\n",
    "\n",
    "       "
   ]
  },
  {
   "cell_type": "code",
   "execution_count": 22,
   "id": "7d20245e-1826-4fb9-a8c5-61d2304ce3f7",
   "metadata": {},
   "outputs": [
    {
     "name": "stdin",
     "output_type": "stream",
     "text": [
      "Enter the number of elements: 5\n",
      "Enter the text: 2\n",
      "Enter the text: 4\n",
      "Enter the text: 6\n",
      "Enter the text: 8\n",
      "Enter the text: 15\n"
     ]
    },
    {
     "name": "stdout",
     "output_type": "stream",
     "text": [
      "Text message saved\n"
     ]
    },
    {
     "name": "stdin",
     "output_type": "stream",
     "text": [
      "Enter the file name with extensions: abc.txt\n",
      "Please enter the file name with extensions again: abc.txt\n"
     ]
    },
    {
     "name": "stdout",
     "output_type": "stream",
     "text": [
      "2\n",
      "4\n",
      "6\n",
      "8\n",
      "15\n",
      "\n",
      "Thse sum of numbers is: 35\n"
     ]
    }
   ],
   "source": [
    "#17.\n",
    "#Create text file\n",
    "f=open(\"abc.txt\",\"a\")\n",
    "n=int(input(\"Enter the number of elements:\"))\n",
    "for i in range(n):\n",
    "    t=input(\"Enter the text:\")\n",
    "    f.write(t)\n",
    "    f.write(\"\\n\")\n",
    "f.close()\n",
    "print(\"Text message saved\")\n",
    "\n",
    "#Read the text file\n",
    "\n",
    "fname=input(\"Enter the file name with extensions:\")\n",
    "f=open(fname,\"r\")\n",
    "t=f.readlines()\n",
    "sum=0\n",
    "for i in t:\n",
    "    sum += int(i.strip())\n",
    "f.close()\n",
    "\n",
    "fname=input(\"Please enter the file name with extensions again:\")\n",
    "f=open(fname,\"r\")\n",
    "t=f.read()\n",
    "f.close()\n",
    "print(t)\n",
    "print(\"Thse sum of numbers is:\",sum)\n"
   ]
  },
  {
   "cell_type": "code",
   "execution_count": 18,
   "id": "395a9616-49c8-4378-bcea-b92cc4897e92",
   "metadata": {},
   "outputs": [
    {
     "name": "stdin",
     "output_type": "stream",
     "text": [
      "Enter the string: A data structure is a way of organizing and storing data so that it can be accessed and modified efficiently. Different data structures are suited to different kinds of applications, and some are highly specialized to specific tasks. Here are some common data structures Text saved successfully\n"
     ]
    },
    {
     "name": "stdout",
     "output_type": "stream",
     "text": [
      "Text saved successfully\n",
      "47\n",
      "File readed successfully\n",
      "['A', 'data', 'structure', 'is', 'a', 'way', 'of', 'organizing', 'and', 'storing', 'data', 'so', 'that', 'it', 'can', 'be', 'accessed', 'and', 'modified', 'efficiently.', 'Different', 'data', 'structures', 'are', 'suited', 'to', 'different', 'kinds', 'of', 'applications,', 'and', 'some', 'are', 'highly', 'specialized', 'to', 'specific', 'tasks.', 'Here', 'are', 'some', 'common', 'data', 'structures', 'Text', 'saved', 'successfully']\n",
      "A : 1\n",
      "data : 4\n",
      "structure : 1\n",
      "is : 1\n",
      "a : 1\n",
      "way : 1\n",
      "of : 2\n",
      "organizing : 1\n",
      "and : 3\n",
      "storing : 1\n",
      "data : 3\n",
      "so : 1\n",
      "that : 1\n",
      "it : 1\n",
      "can : 1\n",
      "be : 1\n",
      "accessed : 1\n",
      "and : 2\n",
      "modified : 1\n",
      "efficiently. : 1\n",
      "Different : 1\n",
      "data : 2\n",
      "structures : 2\n",
      "are : 3\n",
      "suited : 1\n",
      "to : 2\n",
      "different : 1\n",
      "kinds : 1\n",
      "of : 1\n",
      "applications, : 1\n",
      "and : 1\n",
      "some : 2\n",
      "are : 2\n",
      "highly : 1\n",
      "specialized : 1\n",
      "to : 1\n",
      "specific : 1\n",
      "tasks. : 1\n",
      "Here : 1\n",
      "are : 1\n",
      "some : 1\n",
      "common : 1\n",
      "data : 1\n",
      "structures : 1\n",
      "Text : 1\n",
      "saved : 1\n",
      "successfully : 1\n",
      "[1, 4, 1, 1, 1, 1, 2, 1, 3, 1, 3, 1, 1, 1, 1, 1, 1, 2, 1, 1, 1, 2, 2, 3, 1, 2, 1, 1, 1, 1, 1, 2, 2, 1, 1, 1, 1, 1, 1, 1, 1, 1, 1, 1, 1, 1, 1]\n"
     ]
    },
    {
     "data": {
      "text/plain": [
       "<BarContainer object of 47 artists>"
      ]
     },
     "execution_count": 18,
     "metadata": {},
     "output_type": "execute_result"
    },
    {
     "data": {
      "image/png": "[encoded data removed]",
      "text/plain": [
       "<Figure size 640x480 with 1 Axes>"
      ]
     },
     "metadata": {},
     "output_type": "display_data"
    }
   ],
   "source": [
    "#18.\n",
    "import matplotlib.pyplot as plt\n",
    "f=open(\"read.txt\",\"w\")\n",
    "t=input(\"Enter the string:\")\n",
    "f.write(t)\n",
    "f.close()\n",
    "print(\"Text saved successfully\")\n",
    "\n",
    "f=open(\"read.txt\",\"r\")\n",
    "t=f.read()\n",
    "p=t.split()\n",
    "l=len(p)\n",
    "print(l)\n",
    "f.close()\n",
    "print(\"File readed successfully\")\n",
    "\n",
    "a=t.split()\n",
    "print(a)\n",
    "b=[]\n",
    "c=[]\n",
    "d=[]\n",
    "for i in range(l):\n",
    "    count=1\n",
    "    b.append(a[i])\n",
    "    for j in range(i+1,l):\n",
    "        if b[i]==a[j]:\n",
    "            count+=1\n",
    "    print(b[i],\":\",count)\n",
    "    c.append(count)\n",
    "    d.append(i)\n",
    "print(c)\n",
    "plt.xlabel(\"words\")\n",
    "plt.bar(a,c)\n",
    "        \n"
   ]
  },
  {
   "cell_type": "code",
   "execution_count": 35,
   "id": "3fe34190-7eae-4772-ad5f-d03028952b44",
   "metadata": {},
   "outputs": [
    {
     "name": "stdout",
     "output_type": "stream",
     "text": [
      "14\n",
      "4\n",
      "7\n",
      "35\n",
      "41\n",
      "2\n",
      "33\n",
      "18\n",
      "6\n",
      "3\n",
      "14\n",
      "3\n",
      "10\n",
      "15\n",
      "45\n",
      "28\n",
      "4\n",
      "37\n",
      "8\n",
      "36\n",
      "36\n",
      "46\n",
      "4\n",
      "37\n",
      "37\n",
      "9\n",
      "10\n",
      "29\n",
      "49\n",
      "3\n",
      "42\n",
      "35\n",
      "31\n",
      "39\n",
      "16\n",
      "32\n",
      "20\n",
      "39\n",
      "28\n",
      "39\n",
      "30\n",
      "46\n",
      "17\n",
      "45\n",
      "2\n",
      "23\n",
      "36\n",
      "31\n",
      "27\n",
      "43\n",
      "2\n",
      "11\n",
      "29\n",
      "49\n",
      "22\n",
      "32\n",
      "45\n",
      "29\n",
      "4\n",
      "2\n",
      "13\n",
      "32\n",
      "41\n",
      "1\n",
      "12\n",
      "7\n",
      "43\n",
      "33\n",
      "37\n",
      "40\n",
      "8\n",
      "31\n",
      "5\n",
      "19\n",
      "8\n",
      "44\n",
      "33\n",
      "32\n",
      "14\n",
      "5\n",
      "14\n",
      "4\n",
      "8\n",
      "1\n",
      "19\n",
      "31\n",
      "2\n",
      "2\n",
      "29\n",
      "33\n",
      "13\n",
      "42\n",
      "1\n",
      "42\n",
      "11\n",
      "28\n",
      "2\n",
      "12\n",
      "39\n",
      "45\n",
      "File created succesfully\n",
      "The mean of the numbers is: 23.05\n",
      "[14, 4, 7, 35, 41, 2, 33, 18, 6, 3, 14, 3, 10, 15, 45, 28, 4, 37, 8, 36, 36, 46, 4, 37, 37, 9, 10, 29, 49, 3, 42, 35, 31, 39, 16, 32, 20, 39, 28, 39, 30, 46, 17, 45, 2, 23, 36, 31, 27, 43, 2, 11, 29, 49, 22, 32, 45, 29, 4, 2, 13, 32, 41, 1, 12, 7, 43, 33, 37, 40, 8, 31, 5, 19, 8, 44, 33, 32, 14, 5, 14, 4, 8, 1, 19, 31, 2, 2, 29, 33, 13, 42, 1, 42, 11, 28, 2, 12, 39, 45]\n",
      "[1, 2, 3, 4, 5, 6, 7, 8, 9, 10, 11, 12, 13, 14, 15, 16, 17, 18, 19, 20, 22, 23, 27, 28, 29, 30, 31, 32, 33, 35, 36, 37, 39, 40, 41, 42, 43, 44, 45, 46, 49]\n",
      "[3, 7, 3, 5, 2, 1, 2, 4, 1, 2, 2, 2, 2, 4, 1, 1, 1, 1, 2, 1, 1, 1, 1, 3, 4, 1, 4, 4, 4, 2, 3, 4, 4, 1, 2, 3, 2, 1, 4, 2, 2]\n"
     ]
    },
    {
     "data": {
      "text/plain": [
       "(array([30., 17., 10., 26., 17.]),\n",
       " array([ 1. , 10.6, 20.2, 29.8, 39.4, 49. ]),\n",
       " <BarContainer object of 5 artists>)"
      ]
     },
     "execution_count": 35,
     "metadata": {},
     "output_type": "execute_result"
    },
    {
     "data": {
      "image/png": "[encoded data removed]",
      "text/plain": [
       "<Figure size 640x480 with 1 Axes>"
      ]
     },
     "metadata": {},
     "output_type": "display_data"
    }
   ],
   "source": [
    "#19.\n",
    "import matplotlib.pyplot as plt\n",
    "import numpy as np\n",
    "# for i in range(100):\n",
    "#     a=np.random.randint(1,50)  # random.randint use to generate random numbers\n",
    "#     print(a)\n",
    "f=open(\"xyz.txt\",\"w\")\n",
    "for i in range(100):\n",
    "    t=np.random.randint(1,50)\n",
    "    f.write(str(t))\n",
    "    f.write(\"\\n\")\n",
    "    print(t)\n",
    "f.close()\n",
    "print(\"File created succesfully\")\n",
    "# f=open(\"xyz.txt\",\"r\")\n",
    "# t=f.read()\n",
    "# p=t.split()\n",
    "\n",
    "f=open(\"xyz.txt\",\"r\")\n",
    "t=f.readlines()\n",
    "sum=0\n",
    "for i in t:\n",
    "    sum += int(i.strip())\n",
    "f.close()\n",
    "print(\"The mean of the numbers is:\", sum/100)\n",
    "\n",
    "a=[]\n",
    "for i in t:\n",
    "    a.append(int(i.strip()))\n",
    "print(a)\n",
    "# l=len(a)\n",
    "# b=list(set(a))\n",
    "# print(b)\n",
    "# l=len(a)\n",
    "# l1 = len(b)\n",
    "# c=[]\n",
    "# for i in range(l1):\n",
    "#     count=0\n",
    "#     for j in range(l):\n",
    "#         if b[i]==a[j]:\n",
    "#             count+=1\n",
    "#     c.append(count)\n",
    "# print(c)\n",
    "\n",
    "plt.hist(a,bins=5,rwidth=0.8)\n"
   ]
  },
  {
   "cell_type": "code",
   "execution_count": 1,
   "id": "c6100aa0-59de-40c7-96ae-6c39e9aee704",
   "metadata": {},
   "outputs": [],
   "source": [
    "# 20.\n"
   ]
  },
  {
   "cell_type": "code",
   "execution_count": 16,
   "id": "6ab8f6b8-c775-4ad9-8b4a-d0dbfa500ab0",
   "metadata": {},
   "outputs": [
    {
     "name": "stdin",
     "output_type": "stream",
     "text": [
      "Enter the number of elements in the list: 6\n",
      "Enter the number: 4\n",
      "Enter the number: 6\n",
      "Enter the number: 8\n",
      "Enter the number: 18\n",
      "Enter the number: 21\n",
      "Enter the number: 4\n"
     ]
    },
    {
     "name": "stdout",
     "output_type": "stream",
     "text": [
      "[4, 6, 8, 18, 21, 4]\n",
      "Mean 10.166666666666666\n",
      "Median 13.0\n",
      "[4, 6, 8, 18, 21]\n",
      "Mode 4\n",
      "Standard deviation 6.792561290771611\n"
     ]
    },
    {
     "data": {
      "text/plain": [
       "{'whiskers': [<matplotlib.lines.Line2D at 0x227cc29c590>,\n",
       "  <matplotlib.lines.Line2D at 0x227cc29d150>],\n",
       " 'caps': [<matplotlib.lines.Line2D at 0x227cc29dd90>,\n",
       "  <matplotlib.lines.Line2D at 0x227cc29ea10>],\n",
       " 'boxes': [<matplotlib.lines.Line2D at 0x227cc28f790>],\n",
       " 'medians': [<matplotlib.lines.Line2D at 0x227cc29f590>],\n",
       " 'fliers': [<matplotlib.lines.Line2D at 0x227cc2b80d0>],\n",
       " 'means': []}"
      ]
     },
     "execution_count": 16,
     "metadata": {},
     "output_type": "execute_result"
    },
    {
     "data": {
      "image/png": "[encoded data removed]",
      "text/plain": [
       "<Figure size 640x480 with 1 Axes>"
      ]
     },
     "metadata": {},
     "output_type": "display_data"
    }
   ],
   "source": [
    "# 21.\n",
    "import matplotlib.pyplot as plt\n",
    "import numpy as np\n",
    "n=int(input(\"Enter the number of elements in the list:\"))\n",
    "a=[]\n",
    "s=0\n",
    "for i in range(n):\n",
    "    k=int(input(\"Enter the number:\"))\n",
    "    a.append(k)\n",
    "    s+=k\n",
    "print(a)\n",
    "mean=s/n\n",
    "print(\"Mean\",mean)\n",
    "if n%2!=0:\n",
    "    median=a[int((n-1)/2)]\n",
    "else:\n",
    "    median=(a[int(n/2) -1] + a[int(n/2)])/2\n",
    "print(\"Median\",median)\n",
    "b=list(set(a))\n",
    "print(b)\n",
    "l=len(b)\n",
    "max=0\n",
    "for i in range(l):\n",
    "    count=0\n",
    "    for j in range(n):\n",
    "        if b[i]==a[j]:\n",
    "            count+=1\n",
    "    if count>max:\n",
    "        max=count\n",
    "        temp=i\n",
    "print(\"Mode\",b[temp])\n",
    "sigma=0\n",
    "for i in range(n):\n",
    "    sigma=sigma + (a[i] - mean)**2\n",
    "std_dev = sigma/n\n",
    "std_dev=np.sqrt(std_dev)\n",
    "print(\"Standard deviation\",std_dev)\n",
    "\n",
    "plt.boxplot(a)\n",
    "    \n",
    "  "
   ]
  },
  {
   "cell_type": "code",
   "execution_count": 23,
   "id": "1bf5cee0-5a16-4079-a17a-2defb02637fd",
   "metadata": {},
   "outputs": [
    {
     "name": "stdin",
     "output_type": "stream",
     "text": [
      "Enter the number of elements in the list: 6\n",
      "Enter the number: 4\n",
      "Enter the number: 6\n",
      "Enter the number: 8\n",
      "Enter the number: 18\n",
      "Enter the number: 21\n",
      "Enter the number: 4\n"
     ]
    },
    {
     "name": "stdout",
     "output_type": "stream",
     "text": [
      "[4, 6, 8, 18, 21, 4]\n"
     ]
    },
    {
     "ename": "TypeError",
     "evalue": "'int' object is not callable",
     "output_type": "error",
     "traceback": [
      "\u001b[1;31m---------------------------------------------------------------------------\u001b[0m",
      "\u001b[1;31mTypeError\u001b[0m                                 Traceback (most recent call last)",
      "Cell \u001b[1;32mIn[23], line 10\u001b[0m\n\u001b[0;32m      8\u001b[0m \u001b[38;5;28mprint\u001b[39m(a)\n\u001b[0;32m      9\u001b[0m c\u001b[38;5;241m=\u001b[39m\u001b[38;5;28mmin\u001b[39m(a)\n\u001b[1;32m---> 10\u001b[0m d\u001b[38;5;241m=\u001b[39m\u001b[38;5;28mmax\u001b[39m(a)\n\u001b[0;32m     11\u001b[0m \u001b[38;5;28mprint\u001b[39m(c)\n\u001b[0;32m     12\u001b[0m \u001b[38;5;28mprint\u001b[39m(d)\n",
      "\u001b[1;31mTypeError\u001b[0m: 'int' object is not callable"
     ]
    }
   ],
   "source": [
    "#22.\n",
    "import matplotlib.pyplot as plt\n",
    "import numpy as np\n",
    "n=int(input(\"Enter the number of elements in the list:\"))\n",
    "a=[]\n",
    "for i in range(n):\n",
    "    k=int(input(\"Enter the number:\"))\n",
    "    a.append(k)\n",
    "print(a)\n",
    "c=min(a)\n",
    "d=max(a) #showing error in notebook but run in idle \n",
    "print(c)\n",
    "print(d)\n",
    "b=[]\n",
    "for i in range(n):\n",
    "    norm_list = (a[i]-c) / (d-c)\n",
    "    b.append(norm_list)\n",
    "print(b)\n"
   ]
  },
  {
   "cell_type": "code",
   "execution_count": 25,
   "id": "ee1f5a7b-5fbc-4d40-ae20-290b0139fd82",
   "metadata": {},
   "outputs": [
    {
     "name": "stdin",
     "output_type": "stream",
     "text": [
      "Enter the number: 5\n"
     ]
    },
    {
     "name": "stdout",
     "output_type": "stream",
     "text": [
      "Odd\n"
     ]
    }
   ],
   "source": [
    "#23.\n",
    "n=int(input(\"Enter the number:\"))\n",
    "if n%2==0:\n",
    "    print(\"Even\")\n",
    "else:\n",
    "    print(\"Odd\")"
   ]
  },
  {
   "cell_type": "code",
   "execution_count": 30,
   "id": "d5e45ce4-c135-41ec-bb45-339aa45586e5",
   "metadata": {},
   "outputs": [
    {
     "name": "stdin",
     "output_type": "stream",
     "text": [
      "Enter the marks: 49\n"
     ]
    },
    {
     "name": "stdout",
     "output_type": "stream",
     "text": [
      "F\n"
     ]
    }
   ],
   "source": [
    "#24.\n",
    "n=int(input(\"Enter the marks:\"))\n",
    "if n>=90:\n",
    "    print(\"A\")\n",
    "elif n>=80 and n<=89:\n",
    "    print(\"B\")\n",
    "elif n>=70 and n<=79:\n",
    "    print(\"C\")\n",
    "elif n>=50 and n<=69:\n",
    "    print(\"D\")\n",
    "else:\n",
    "    print(\"F\")\n",
    "    "
   ]
  },
  {
   "cell_type": "code",
   "execution_count": 35,
   "id": "8e48277d-0620-4522-b37c-1a648b014c57",
   "metadata": {},
   "outputs": [
    {
     "name": "stdin",
     "output_type": "stream",
     "text": [
      "Enter the year: 2016\n"
     ]
    },
    {
     "name": "stdout",
     "output_type": "stream",
     "text": [
      "It is a leap year\n"
     ]
    }
   ],
   "source": [
    "#25.\n",
    "n=int(input(\"Enter the year:\"))\n",
    "if n%4==0 and n%100!=0:\n",
    "    print(\"It is a leap year\")\n",
    "elif n%400==0:\n",
    "    print(\"It is a leap year\")\n",
    "else:\n",
    "    print(\"It is not a leap year\")"
   ]
  },
  {
   "cell_type": "code",
   "execution_count": null,
   "id": "7a0a8311-7203-459e-98a2-31579a44b8ff",
   "metadata": {},
   "outputs": [],
   "source": []
  }
 ],
 "metadata": {
  "kernelspec": {
   "display_name": "Python 3 (ipykernel)",
   "language": "python",
   "name": "python3"
  },
  "language_info": {
   "codemirror_mode": {
    "name": "ipython",
    "version": 3
   },
   "file_extension": ".py",
   "mimetype": "text/x-python",
   "name": "python",
   "nbconvert_exporter": "python",
   "pygments_lexer": "ipython3",
   "version": "3.11.7"
  }
 },
 "nbformat": 4,
 "nbformat_minor": 5
}
